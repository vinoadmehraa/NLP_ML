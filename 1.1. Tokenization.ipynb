{
 "cells": [
  {
   "cell_type": "code",
   "execution_count": null,
   "id": "814c1988",
   "metadata": {},
   "outputs": [],
   "source": [
    "## Tokenization & Basic Terminology\n",
    "# 1. corpus (Paragraph)\n",
    "# 2. Documents (Sentences)\n",
    "# 3. Vocabulory (Uniquew words)\n",
    "# 4. Words (all the words present in the corpus)\n",
    "\n",
    "## 1st Level of Tokenization is a process of converting the paragraph into sentences.\n",
    "## In the NLP language, it the process of converting corpus into documents.\n",
    "\n",
    "## 2nd Level of Tokenization is a process of converting sentences into words.\n",
    "## In the NLP language, it is the process of converting documents into vocabulory.\n",
    "\n",
    "## NLTK - Natural Language Toolkit library\n",
    "## spaCy - another library"
   ]
  },
  {
   "cell_type": "code",
   "execution_count": null,
   "id": "a14d02bd",
   "metadata": {},
   "outputs": [
    {
     "name": "stdout",
     "output_type": "stream",
     "text": [
      "Requirement already satisfied: nltk in /Users/vinoadmehraa/anaconda3/lib/python3.10/site-packages (3.7)\n",
      "Requirement already satisfied: joblib in /Users/vinoadmehraa/anaconda3/lib/python3.10/site-packages (from nltk) (1.1.1)\n",
      "Requirement already satisfied: tqdm in /Users/vinoadmehraa/anaconda3/lib/python3.10/site-packages (from nltk) (4.64.1)\n",
      "Requirement already satisfied: click in /Users/vinoadmehraa/anaconda3/lib/python3.10/site-packages (from nltk) (8.0.4)\n",
      "Requirement already satisfied: regex>=2021.8.3 in /Users/vinoadmehraa/anaconda3/lib/python3.10/site-packages (from nltk) (2022.7.9)\n",
      "Note: you may need to restart the kernel to use updated packages.\n"
     ]
    }
   ],
   "source": [
    "#%pip install nltk"
   ]
  },
  {
   "cell_type": "code",
   "execution_count": 1,
   "id": "1d5d511e",
   "metadata": {},
   "outputs": [
    {
     "name": "stderr",
     "output_type": "stream",
     "text": [
      "[nltk_data] Downloading package punkt to\n",
      "[nltk_data]     /Users/vinoadmehraa/nltk_data...\n",
      "[nltk_data]   Package punkt is already up-to-date!\n"
     ]
    }
   ],
   "source": [
    "import nltk\n",
    "nltk.download('punkt')  # Only needed once to download the model\n",
    "from nltk.tokenize import sent_tokenize"
   ]
  },
  {
   "cell_type": "code",
   "execution_count": 12,
   "id": "ceb8f3ff",
   "metadata": {},
   "outputs": [
    {
     "name": "stdout",
     "output_type": "stream",
     "text": [
      "[\"Hello, This is Vinoad Mehraa's learning.\", 'It is a beautiful sunny day today.', 'This is NLP course for Machine Learning.']\n"
     ]
    }
   ],
   "source": [
    "corpus = \"Hello, This is Vinoad Mehraa's learning. It is a beautiful sunny day today. This is NLP course for Machine Learning.\"\n",
    "print(sent_tokenize(corpus))"
   ]
  },
  {
   "cell_type": "code",
   "execution_count": 13,
   "id": "611beff8",
   "metadata": {},
   "outputs": [
    {
     "data": {
      "text/plain": [
       "[\"Hello, This is Vinoad Mehraa's learning.\",\n",
       " 'It is a beautiful sunny day today.',\n",
       " 'This is NLP course for Machine Learning.']"
      ]
     },
     "execution_count": 13,
     "metadata": {},
     "output_type": "execute_result"
    }
   ],
   "source": [
    "sent_tokenize(corpus)"
   ]
  },
  {
   "cell_type": "code",
   "execution_count": 14,
   "id": "281e95aa",
   "metadata": {},
   "outputs": [
    {
     "name": "stdout",
     "output_type": "stream",
     "text": [
      "<class 'list'>\n"
     ]
    }
   ],
   "source": [
    "documents = sent_tokenize(corpus)\n",
    "print(type(documents))"
   ]
  },
  {
   "cell_type": "code",
   "execution_count": 15,
   "id": "2809391b",
   "metadata": {},
   "outputs": [
    {
     "name": "stdout",
     "output_type": "stream",
     "text": [
      "Hello, This is Vinoad Mehraa's learning.\n",
      "It is a beautiful sunny day today.\n",
      "This is NLP course for Machine Learning.\n"
     ]
    }
   ],
   "source": [
    "for sentence in documents:\n",
    "    print(sentence)"
   ]
  },
  {
   "cell_type": "code",
   "execution_count": 16,
   "id": "5333684a",
   "metadata": {},
   "outputs": [],
   "source": [
    "## 2nd level of tokenization\n",
    "from nltk.tokenize import word_tokenize\n"
   ]
  },
  {
   "cell_type": "code",
   "execution_count": 17,
   "id": "4812579c",
   "metadata": {},
   "outputs": [
    {
     "name": "stdout",
     "output_type": "stream",
     "text": [
      "['Hello', ',', 'This', 'is', 'Vinoad', 'Mehraa', \"'s\", 'learning', '.', 'It', 'is', 'a', 'beautiful', 'sunny', 'day', 'today', '.', 'This', 'is', 'NLP', 'course', 'for', 'Machine', 'Learning', '.']\n"
     ]
    }
   ],
   "source": [
    "print(word_tokenize(corpus))"
   ]
  },
  {
   "cell_type": "code",
   "execution_count": 18,
   "id": "f7002902",
   "metadata": {},
   "outputs": [
    {
     "data": {
      "text/plain": [
       "list"
      ]
     },
     "execution_count": 18,
     "metadata": {},
     "output_type": "execute_result"
    }
   ],
   "source": [
    "type(word_tokenize(corpus))"
   ]
  },
  {
   "cell_type": "code",
   "execution_count": 19,
   "id": "957c6433",
   "metadata": {},
   "outputs": [
    {
     "name": "stdout",
     "output_type": "stream",
     "text": [
      "['Hello', ',', 'This', 'is', 'Vinoad', 'Mehraa', \"'s\", 'learning', '.']\n",
      "['It', 'is', 'a', 'beautiful', 'sunny', 'day', 'today', '.']\n",
      "['This', 'is', 'NLP', 'course', 'for', 'Machine', 'Learning', '.']\n"
     ]
    }
   ],
   "source": [
    "for sentence in documents:\n",
    "    print(word_tokenize(sentence))"
   ]
  },
  {
   "cell_type": "code",
   "execution_count": null,
   "id": "e57d4786",
   "metadata": {},
   "outputs": [],
   "source": [
    "## using word_tokenizze, Mehraa's is split into two words: mehraa and 's.\n",
    "## using wordpunct_tokenize, we can split it into three words: mehraa,' and s\n",
    "## puntuation is treated as a seperate word.\n",
    "from nltk.tokenize import wordpunct_tokenize"
   ]
  },
  {
   "cell_type": "code",
   "execution_count": 21,
   "id": "29ce0bb1",
   "metadata": {},
   "outputs": [
    {
     "data": {
      "text/plain": [
       "['Hello',\n",
       " ',',\n",
       " 'This',\n",
       " 'is',\n",
       " 'Vinoad',\n",
       " 'Mehraa',\n",
       " \"'\",\n",
       " 's',\n",
       " 'learning',\n",
       " '.',\n",
       " 'It',\n",
       " 'is',\n",
       " 'a',\n",
       " 'beautiful',\n",
       " 'sunny',\n",
       " 'day',\n",
       " 'today',\n",
       " '.',\n",
       " 'This',\n",
       " 'is',\n",
       " 'NLP',\n",
       " 'course',\n",
       " 'for',\n",
       " 'Machine',\n",
       " 'Learning',\n",
       " '.']"
      ]
     },
     "execution_count": 21,
     "metadata": {},
     "output_type": "execute_result"
    }
   ],
   "source": [
    "wordpunct_tokenize(corpus)"
   ]
  },
  {
   "cell_type": "code",
   "execution_count": 25,
   "id": "090015c2",
   "metadata": {},
   "outputs": [
    {
     "data": {
      "text/plain": [
       "['Hello',\n",
       " ',',\n",
       " 'This',\n",
       " 'is',\n",
       " 'Vinoad',\n",
       " 'Mehraa',\n",
       " \"'s\",\n",
       " 'learning.',\n",
       " 'It',\n",
       " 'is',\n",
       " 'a',\n",
       " 'beautiful',\n",
       " 'sunny',\n",
       " 'day',\n",
       " 'today.',\n",
       " 'This',\n",
       " 'is',\n",
       " 'NLP',\n",
       " 'course',\n",
       " 'for',\n",
       " 'Machine',\n",
       " 'Learning',\n",
       " '.']"
      ]
     },
     "execution_count": 25,
     "metadata": {},
     "output_type": "execute_result"
    }
   ],
   "source": [
    "## so far, full stop is treated as a new word.\n",
    "## using treebankwordtokenizer, all full stops within corpus would not be treated as new word.\n",
    "## Howeeve, the last full stop of corpus would be treated as word.\n",
    "from nltk.tokenize import TreebankWordTokenizer\n",
    "Tokenizer = TreebankWordTokenizer()\n",
    "Tokenizer.tokenize(corpus)"
   ]
  },
  {
   "cell_type": "code",
   "execution_count": null,
   "id": "2cd522d1",
   "metadata": {},
   "outputs": [],
   "source": []
  },
  {
   "cell_type": "code",
   "execution_count": null,
   "id": "fb65bddf",
   "metadata": {},
   "outputs": [],
   "source": []
  },
  {
   "cell_type": "code",
   "execution_count": null,
   "id": "a5b9a934",
   "metadata": {},
   "outputs": [],
   "source": []
  },
  {
   "cell_type": "code",
   "execution_count": null,
   "id": "51e70d21",
   "metadata": {},
   "outputs": [],
   "source": []
  }
 ],
 "metadata": {
  "kernelspec": {
   "display_name": "Python 3",
   "language": "python",
   "name": "python3"
  },
  "language_info": {
   "codemirror_mode": {
    "name": "ipython",
    "version": 3
   },
   "file_extension": ".py",
   "mimetype": "text/x-python",
   "name": "python",
   "nbconvert_exporter": "python",
   "pygments_lexer": "ipython3",
   "version": "3.10.9"
  }
 },
 "nbformat": 4,
 "nbformat_minor": 5
}
